{
 "cells": [
  {
   "cell_type": "code",
   "execution_count": 8,
   "id": "679a57de",
   "metadata": {},
   "outputs": [],
   "source": [
    "import numpy as np\n",
    "import tensorflow as tf\n",
    "from tensorflow.keras.datasets import imdb\n",
    "from tensorflow.keras.preprocessing import sequence\n",
    "from tensorflow.keras.models import load_model"
   ]
  },
  {
   "cell_type": "code",
   "execution_count": 9,
   "id": "9ef08177",
   "metadata": {},
   "outputs": [],
   "source": [
    "# Load the IMDB dataset word index\n",
    "word_index = imdb.get_word_index()\n",
    "reverse_word_index = {value: key for key, value in word_index.items()}"
   ]
  },
  {
   "cell_type": "code",
   "execution_count": 10,
   "id": "cea19669",
   "metadata": {},
   "outputs": [
    {
     "name": "stderr",
     "output_type": "stream",
     "text": [
      "WARNING:absl:Compiled the loaded model, but the compiled metrics have yet to be built. `model.compile_metrics` will be empty until you train or evaluate the model.\n"
     ]
    },
    {
     "data": {
      "text/html": [
       "<pre style=\"white-space:pre;overflow-x:auto;line-height:normal;font-family:Menlo,'DejaVu Sans Mono',consolas,'Courier New',monospace\"><span style=\"font-weight: bold\">Model: \"sequential\"</span>\n",
       "</pre>\n"
      ],
      "text/plain": [
       "\u001b[1mModel: \"sequential\"\u001b[0m\n"
      ]
     },
     "metadata": {},
     "output_type": "display_data"
    },
    {
     "data": {
      "text/html": [
       "<pre style=\"white-space:pre;overflow-x:auto;line-height:normal;font-family:Menlo,'DejaVu Sans Mono',consolas,'Courier New',monospace\">┏━━━━━━━━━━━━━━━━━━━━━━━━━━━━━━━━━┳━━━━━━━━━━━━━━━━━━━━━━━━┳━━━━━━━━━━━━━━━┓\n",
       "┃<span style=\"font-weight: bold\"> Layer (type)                    </span>┃<span style=\"font-weight: bold\"> Output Shape           </span>┃<span style=\"font-weight: bold\">       Param # </span>┃\n",
       "┡━━━━━━━━━━━━━━━━━━━━━━━━━━━━━━━━━╇━━━━━━━━━━━━━━━━━━━━━━━━╇━━━━━━━━━━━━━━━┩\n",
       "│ embedding (<span style=\"color: #0087ff; text-decoration-color: #0087ff\">Embedding</span>)           │ (<span style=\"color: #00af00; text-decoration-color: #00af00\">32</span>, <span style=\"color: #00af00; text-decoration-color: #00af00\">500</span>, <span style=\"color: #00af00; text-decoration-color: #00af00\">128</span>)         │     <span style=\"color: #00af00; text-decoration-color: #00af00\">1,280,000</span> │\n",
       "├─────────────────────────────────┼────────────────────────┼───────────────┤\n",
       "│ simple_rnn (<span style=\"color: #0087ff; text-decoration-color: #0087ff\">SimpleRNN</span>)          │ (<span style=\"color: #00af00; text-decoration-color: #00af00\">32</span>, <span style=\"color: #00af00; text-decoration-color: #00af00\">128</span>)              │        <span style=\"color: #00af00; text-decoration-color: #00af00\">32,896</span> │\n",
       "├─────────────────────────────────┼────────────────────────┼───────────────┤\n",
       "│ dense (<span style=\"color: #0087ff; text-decoration-color: #0087ff\">Dense</span>)                   │ (<span style=\"color: #00af00; text-decoration-color: #00af00\">32</span>, <span style=\"color: #00af00; text-decoration-color: #00af00\">1</span>)                │           <span style=\"color: #00af00; text-decoration-color: #00af00\">129</span> │\n",
       "└─────────────────────────────────┴────────────────────────┴───────────────┘\n",
       "</pre>\n"
      ],
      "text/plain": [
       "┏━━━━━━━━━━━━━━━━━━━━━━━━━━━━━━━━━┳━━━━━━━━━━━━━━━━━━━━━━━━┳━━━━━━━━━━━━━━━┓\n",
       "┃\u001b[1m \u001b[0m\u001b[1mLayer (type)                   \u001b[0m\u001b[1m \u001b[0m┃\u001b[1m \u001b[0m\u001b[1mOutput Shape          \u001b[0m\u001b[1m \u001b[0m┃\u001b[1m \u001b[0m\u001b[1m      Param #\u001b[0m\u001b[1m \u001b[0m┃\n",
       "┡━━━━━━━━━━━━━━━━━━━━━━━━━━━━━━━━━╇━━━━━━━━━━━━━━━━━━━━━━━━╇━━━━━━━━━━━━━━━┩\n",
       "│ embedding (\u001b[38;5;33mEmbedding\u001b[0m)           │ (\u001b[38;5;34m32\u001b[0m, \u001b[38;5;34m500\u001b[0m, \u001b[38;5;34m128\u001b[0m)         │     \u001b[38;5;34m1,280,000\u001b[0m │\n",
       "├─────────────────────────────────┼────────────────────────┼───────────────┤\n",
       "│ simple_rnn (\u001b[38;5;33mSimpleRNN\u001b[0m)          │ (\u001b[38;5;34m32\u001b[0m, \u001b[38;5;34m128\u001b[0m)              │        \u001b[38;5;34m32,896\u001b[0m │\n",
       "├─────────────────────────────────┼────────────────────────┼───────────────┤\n",
       "│ dense (\u001b[38;5;33mDense\u001b[0m)                   │ (\u001b[38;5;34m32\u001b[0m, \u001b[38;5;34m1\u001b[0m)                │           \u001b[38;5;34m129\u001b[0m │\n",
       "└─────────────────────────────────┴────────────────────────┴───────────────┘\n"
      ]
     },
     "metadata": {},
     "output_type": "display_data"
    },
    {
     "data": {
      "text/html": [
       "<pre style=\"white-space:pre;overflow-x:auto;line-height:normal;font-family:Menlo,'DejaVu Sans Mono',consolas,'Courier New',monospace\"><span style=\"font-weight: bold\"> Total params: </span><span style=\"color: #00af00; text-decoration-color: #00af00\">1,313,027</span> (5.01 MB)\n",
       "</pre>\n"
      ],
      "text/plain": [
       "\u001b[1m Total params: \u001b[0m\u001b[38;5;34m1,313,027\u001b[0m (5.01 MB)\n"
      ]
     },
     "metadata": {},
     "output_type": "display_data"
    },
    {
     "data": {
      "text/html": [
       "<pre style=\"white-space:pre;overflow-x:auto;line-height:normal;font-family:Menlo,'DejaVu Sans Mono',consolas,'Courier New',monospace\"><span style=\"font-weight: bold\"> Trainable params: </span><span style=\"color: #00af00; text-decoration-color: #00af00\">1,313,025</span> (5.01 MB)\n",
       "</pre>\n"
      ],
      "text/plain": [
       "\u001b[1m Trainable params: \u001b[0m\u001b[38;5;34m1,313,025\u001b[0m (5.01 MB)\n"
      ]
     },
     "metadata": {},
     "output_type": "display_data"
    },
    {
     "data": {
      "text/html": [
       "<pre style=\"white-space:pre;overflow-x:auto;line-height:normal;font-family:Menlo,'DejaVu Sans Mono',consolas,'Courier New',monospace\"><span style=\"font-weight: bold\"> Non-trainable params: </span><span style=\"color: #00af00; text-decoration-color: #00af00\">0</span> (0.00 B)\n",
       "</pre>\n"
      ],
      "text/plain": [
       "\u001b[1m Non-trainable params: \u001b[0m\u001b[38;5;34m0\u001b[0m (0.00 B)\n"
      ]
     },
     "metadata": {},
     "output_type": "display_data"
    },
    {
     "data": {
      "text/html": [
       "<pre style=\"white-space:pre;overflow-x:auto;line-height:normal;font-family:Menlo,'DejaVu Sans Mono',consolas,'Courier New',monospace\"><span style=\"font-weight: bold\"> Optimizer params: </span><span style=\"color: #00af00; text-decoration-color: #00af00\">2</span> (12.00 B)\n",
       "</pre>\n"
      ],
      "text/plain": [
       "\u001b[1m Optimizer params: \u001b[0m\u001b[38;5;34m2\u001b[0m (12.00 B)\n"
      ]
     },
     "metadata": {},
     "output_type": "display_data"
    }
   ],
   "source": [
    "# Load the pre-trained model with ReLU activation\n",
    "model = load_model('simple_rnn_imdb.h5')\n",
    "model.summary()"
   ]
  },
  {
   "cell_type": "code",
   "execution_count": 11,
   "id": "dc68d41d",
   "metadata": {},
   "outputs": [
    {
     "data": {
      "text/plain": [
       "[array([[ 0.5058735 ,  0.5221327 ,  0.5385478 , ...,  0.30910137,\n",
       "         -0.64534974,  0.4174406 ],\n",
       "        [ 0.03997722,  0.05449145,  0.10972936, ..., -0.05677801,\n",
       "         -0.06066871,  0.03249294],\n",
       "        [ 0.14539844,  0.0552185 ,  0.1576056 , ..., -0.17614853,\n",
       "         -0.08719216,  0.03019601],\n",
       "        ...,\n",
       "        [-0.04966674, -0.08865242,  0.06286199, ..., -0.05517568,\n",
       "          0.03847837, -0.00092897],\n",
       "        [ 0.05708931,  0.06149488,  0.02164126, ...,  0.0352338 ,\n",
       "         -0.00512128,  0.06305792],\n",
       "        [-0.17092432, -0.06942603, -0.04731629, ..., -0.04063611,\n",
       "         -0.04847632, -0.02469396]], dtype=float32),\n",
       " array([[ 0.13751526,  0.06511778, -0.08102435, ..., -0.1205901 ,\n",
       "          0.0547662 , -0.08328158],\n",
       "        [ 0.0994168 ,  0.1197779 , -0.16052069, ..., -0.04528756,\n",
       "         -0.01237147,  0.02653051],\n",
       "        [-0.17280251,  0.015697  ,  0.1136075 , ...,  0.09143948,\n",
       "          0.10722991, -0.10768618],\n",
       "        ...,\n",
       "        [-0.04952097, -0.10138009,  0.01762952, ...,  0.00626835,\n",
       "         -0.07302605, -0.12337857],\n",
       "        [-0.16079749, -0.06222053,  0.08549982, ...,  0.16255148,\n",
       "          0.09606969,  0.1554621 ],\n",
       "        [ 0.19852214, -0.0469874 ,  0.06860327, ...,  0.1258861 ,\n",
       "          0.03072277,  0.08507132]], dtype=float32),\n",
       " array([[ 0.11538666,  0.09864526,  0.15524834, ..., -0.02327593,\n",
       "         -0.0569378 , -0.2262053 ],\n",
       "        [ 0.05423974, -0.02585633,  0.00404602, ..., -0.06323769,\n",
       "         -0.00065542, -0.25587156],\n",
       "        [-0.08753185, -0.15131417,  0.10435846, ..., -0.00344764,\n",
       "         -0.01795093,  0.06815112],\n",
       "        ...,\n",
       "        [-0.13132088, -0.00108027, -0.12743743, ..., -0.05001613,\n",
       "          0.09832896,  0.07466586],\n",
       "        [ 0.10265396, -0.07779247, -0.02813442, ...,  0.16914563,\n",
       "          0.06495938,  0.10932309],\n",
       "        [ 0.08126047, -0.0075134 , -0.00399715, ..., -0.06571425,\n",
       "         -0.07938161,  0.04484534]], dtype=float32),\n",
       " array([ 1.22973612e-02,  6.57566451e-03, -7.66967749e-03, -6.52111024e-02,\n",
       "        -2.96766385e-02,  5.12095774e-03,  2.11608391e-02, -2.13042144e-02,\n",
       "        -1.60437580e-02, -4.47345525e-02, -3.76385227e-02, -1.17106438e-02,\n",
       "         3.16104782e-03, -1.31267533e-02,  1.52808325e-02, -3.15396935e-02,\n",
       "        -2.59592291e-03, -1.83326546e-02,  3.58065777e-03, -3.23232301e-02,\n",
       "         5.52239781e-03,  6.03081193e-03, -1.76206678e-02,  2.35637911e-02,\n",
       "        -3.46574783e-02,  1.86150987e-02, -3.07236891e-02, -2.93150591e-03,\n",
       "         5.16296998e-02, -2.75680292e-02, -4.11305130e-02, -3.17023583e-02,\n",
       "        -2.04983801e-02, -2.17117295e-02,  1.38289463e-02,  6.05463865e-05,\n",
       "         3.81135643e-02, -1.93147473e-02, -5.40614920e-03, -2.05281433e-02,\n",
       "        -1.11222556e-02,  1.32651851e-02,  7.75614940e-03,  3.60655859e-02,\n",
       "         1.39289079e-02, -2.44810134e-02, -2.06987616e-02,  3.18694599e-02,\n",
       "        -1.67838968e-02, -2.34265625e-02, -3.39127965e-02, -1.62794662e-03,\n",
       "         5.80617785e-03, -2.97844242e-02, -1.11985588e-02, -1.72720309e-02,\n",
       "        -4.23521176e-02, -1.99498534e-02,  3.60835269e-02,  3.86084616e-02,\n",
       "         2.54358295e-02, -3.71368341e-02, -3.83788049e-02, -3.94090675e-02,\n",
       "        -1.22635160e-03,  5.13695693e-03, -1.78180058e-02, -2.41297670e-02,\n",
       "        -7.34487083e-03, -2.96140015e-02,  5.42136654e-03, -1.42136626e-02,\n",
       "        -2.84505961e-03, -1.72000229e-02,  2.37494777e-03,  1.12607609e-02,\n",
       "        -3.67325917e-02, -3.85039710e-02, -2.17409222e-03, -1.09705087e-02,\n",
       "        -3.55670936e-02, -2.36119255e-02,  1.55819859e-02,  2.41247974e-02,\n",
       "        -2.64814664e-02,  4.00267914e-02,  3.52615565e-02,  8.89373478e-03,\n",
       "        -2.79583056e-02,  1.97554845e-03,  2.69093439e-02, -1.86641677e-03,\n",
       "        -1.94237866e-02, -2.15421859e-02,  2.34482475e-02,  1.74217876e-02,\n",
       "        -2.08504517e-02,  1.39717059e-03, -4.81277369e-02, -3.75759415e-02,\n",
       "         1.36607848e-02, -2.24598870e-02,  8.35633837e-03, -2.17482448e-02,\n",
       "        -7.64907897e-03, -2.86588501e-02,  5.35582425e-03, -4.58996324e-03,\n",
       "         7.68832304e-03,  5.27279731e-03, -1.23275388e-02,  9.45058092e-03,\n",
       "         1.00816581e-02,  6.07471168e-03, -3.26499976e-02, -6.35544397e-03,\n",
       "        -1.62919629e-02, -2.24507879e-02, -3.28133889e-02, -1.64407939e-02,\n",
       "        -2.05428265e-02, -4.03470248e-02, -2.85572186e-03, -6.43945672e-03,\n",
       "        -2.26577986e-02, -2.18221620e-02, -1.29272165e-02,  7.50134885e-03],\n",
       "       dtype=float32),\n",
       " array([[-3.24793249e-01],\n",
       "        [ 1.56105831e-01],\n",
       "        [ 1.72565933e-02],\n",
       "        [-6.60297215e-01],\n",
       "        [-2.47792043e-02],\n",
       "        [ 1.94869339e-01],\n",
       "        [-6.86063021e-02],\n",
       "        [-4.32064012e-02],\n",
       "        [ 2.32829034e-01],\n",
       "        [ 3.53569426e-02],\n",
       "        [ 5.72874136e-02],\n",
       "        [ 1.81520358e-01],\n",
       "        [-1.21587805e-01],\n",
       "        [ 4.10870276e-02],\n",
       "        [ 9.05696955e-03],\n",
       "        [-1.52479574e-01],\n",
       "        [ 1.78639948e-01],\n",
       "        [ 1.05526336e-01],\n",
       "        [ 1.76973343e-01],\n",
       "        [ 1.27436593e-01],\n",
       "        [ 9.32535008e-02],\n",
       "        [-1.33490175e-01],\n",
       "        [-1.67308435e-01],\n",
       "        [-2.06869051e-01],\n",
       "        [ 9.23480000e-03],\n",
       "        [-1.15568802e-01],\n",
       "        [-2.65676707e-01],\n",
       "        [ 1.55535221e-01],\n",
       "        [ 1.34208528e-02],\n",
       "        [ 1.97549134e-01],\n",
       "        [ 6.84255436e-02],\n",
       "        [-1.94160521e-01],\n",
       "        [ 2.25494034e-03],\n",
       "        [-5.52302748e-02],\n",
       "        [-2.12060630e-01],\n",
       "        [-5.00179529e-02],\n",
       "        [-4.27212715e-01],\n",
       "        [ 1.14262521e-01],\n",
       "        [-8.47805277e-05],\n",
       "        [ 9.31759402e-02],\n",
       "        [-5.27789928e-02],\n",
       "        [ 1.79626793e-01],\n",
       "        [-3.11600655e-01],\n",
       "        [-5.15548050e-01],\n",
       "        [-3.48359323e-03],\n",
       "        [ 7.24611431e-02],\n",
       "        [ 1.97635174e-01],\n",
       "        [ 1.76522598e-01],\n",
       "        [-1.03880823e-01],\n",
       "        [ 6.64858744e-02],\n",
       "        [ 3.91216666e-01],\n",
       "        [ 8.52213204e-02],\n",
       "        [ 2.38205448e-01],\n",
       "        [-1.27414390e-01],\n",
       "        [ 3.83752674e-01],\n",
       "        [-1.62190512e-01],\n",
       "        [ 3.18791755e-02],\n",
       "        [-1.70235902e-01],\n",
       "        [ 9.85003784e-02],\n",
       "        [-7.01570809e-02],\n",
       "        [-2.47430708e-02],\n",
       "        [ 2.03312904e-01],\n",
       "        [-9.74753872e-02],\n",
       "        [ 1.39012188e-01],\n",
       "        [-9.39799845e-02],\n",
       "        [ 1.73856579e-02],\n",
       "        [-2.00211227e-01],\n",
       "        [-9.41961184e-02],\n",
       "        [ 6.79766908e-02],\n",
       "        [-4.04353023e-01],\n",
       "        [ 1.54528365e-01],\n",
       "        [ 1.81780010e-01],\n",
       "        [-1.03298016e-01],\n",
       "        [ 1.58302352e-01],\n",
       "        [ 8.83314013e-02],\n",
       "        [-4.78343815e-02],\n",
       "        [ 2.59873644e-03],\n",
       "        [ 7.53993466e-02],\n",
       "        [-1.24061182e-01],\n",
       "        [ 3.31081033e-01],\n",
       "        [-1.71973541e-01],\n",
       "        [-7.52886850e-03],\n",
       "        [-1.79554611e-01],\n",
       "        [-1.07646957e-01],\n",
       "        [ 1.75016895e-01],\n",
       "        [ 2.47459173e-01],\n",
       "        [-2.01490045e-01],\n",
       "        [-8.62545297e-02],\n",
       "        [ 4.19408828e-02],\n",
       "        [-1.03269638e-02],\n",
       "        [ 4.30797726e-01],\n",
       "        [ 1.20612271e-01],\n",
       "        [-1.77110106e-01],\n",
       "        [-5.72564825e-02],\n",
       "        [ 1.29340336e-01],\n",
       "        [ 1.76299766e-01],\n",
       "        [ 2.33128726e-01],\n",
       "        [ 1.65218070e-01],\n",
       "        [ 1.97207909e-02],\n",
       "        [-1.10236928e-01],\n",
       "        [ 2.42881805e-01],\n",
       "        [-2.22298458e-01],\n",
       "        [ 4.76985127e-02],\n",
       "        [ 2.35308215e-01],\n",
       "        [ 7.40459114e-02],\n",
       "        [ 8.37326199e-02],\n",
       "        [-2.02967897e-02],\n",
       "        [-1.54727474e-01],\n",
       "        [ 1.97510675e-01],\n",
       "        [-4.92964357e-01],\n",
       "        [-1.78197220e-01],\n",
       "        [ 1.37801707e-01],\n",
       "        [-2.31648326e-01],\n",
       "        [ 1.42332643e-01],\n",
       "        [ 5.21060348e-01],\n",
       "        [ 1.06491715e-01],\n",
       "        [-4.16097008e-02],\n",
       "        [-4.64613996e-02],\n",
       "        [ 1.21944651e-01],\n",
       "        [ 6.87805191e-03],\n",
       "        [-1.12793744e-01],\n",
       "        [ 2.38835678e-01],\n",
       "        [-1.59107432e-01],\n",
       "        [ 1.57093927e-01],\n",
       "        [ 1.81731954e-01],\n",
       "        [-5.17180599e-02],\n",
       "        [ 6.57975674e-02],\n",
       "        [-5.13040880e-03]], dtype=float32),\n",
       " array([0.02575917], dtype=float32)]"
      ]
     },
     "execution_count": 11,
     "metadata": {},
     "output_type": "execute_result"
    }
   ],
   "source": [
    "model.get_weights()"
   ]
  },
  {
   "cell_type": "code",
   "execution_count": 12,
   "id": "272a987a",
   "metadata": {},
   "outputs": [],
   "source": [
    "# Step 2: Helper Functions\n",
    "# Function to decode reviews\n",
    "def decode_review(encoded_review):\n",
    "    return ' '.join([reverse_word_index.get(i - 3, '?') for i in encoded_review])\n",
    "\n",
    "# Function to preprocess user input\n",
    "def preprocess_text(text):\n",
    "    words = text.lower().split()\n",
    "    encoded_review = [word_index.get(word, 2) + 3 for word in words]\n",
    "    padded_review = sequence.pad_sequences([encoded_review], maxlen=500)\n",
    "    return padded_review"
   ]
  },
  {
   "cell_type": "code",
   "execution_count": 13,
   "id": "4816b93a",
   "metadata": {},
   "outputs": [],
   "source": [
    "### Prediction  function\n",
    "\n",
    "def predict_sentiment(review):\n",
    "    preprocessed_input=preprocess_text(review)\n",
    "\n",
    "    prediction=model.predict(preprocessed_input)\n",
    "\n",
    "    sentiment = 'Positive' if prediction[0][0] > 0.5 else 'Negative'\n",
    "    \n",
    "    return sentiment, prediction[0][0]\n"
   ]
  },
  {
   "cell_type": "code",
   "execution_count": 14,
   "id": "4c1e3c27",
   "metadata": {},
   "outputs": [
    {
     "name": "stdout",
     "output_type": "stream",
     "text": [
      "\u001b[1m1/1\u001b[0m \u001b[32m━━━━━━━━━━━━━━━━━━━━\u001b[0m\u001b[37m\u001b[0m \u001b[1m0s\u001b[0m 312ms/step\n",
      "Review: This movie was fantastic! The acting was great and the plot was thrilling.\n",
      "Sentiment: Negative\n",
      "Prediction Score: 0.4374532997608185\n"
     ]
    }
   ],
   "source": [
    "# Step 4: User Input and Prediction\n",
    "# Example review for prediction\n",
    "example_review = \"This movie was fantastic! The acting was great and the plot was thrilling.\"\n",
    "\n",
    "sentiment,score=predict_sentiment(example_review)\n",
    "\n",
    "print(f'Review: {example_review}')\n",
    "print(f'Sentiment: {sentiment}')\n",
    "print(f'Prediction Score: {score}')"
   ]
  },
  {
   "cell_type": "code",
   "execution_count": null,
   "id": "060bfd8c",
   "metadata": {},
   "outputs": [],
   "source": []
  },
  {
   "cell_type": "code",
   "execution_count": null,
   "id": "423ff50e",
   "metadata": {},
   "outputs": [],
   "source": []
  }
 ],
 "metadata": {
  "kernelspec": {
   "display_name": "base",
   "language": "python",
   "name": "python3"
  },
  "language_info": {
   "codemirror_mode": {
    "name": "ipython",
    "version": 3
   },
   "file_extension": ".py",
   "mimetype": "text/x-python",
   "name": "python",
   "nbconvert_exporter": "python",
   "pygments_lexer": "ipython3",
   "version": "3.13.5"
  }
 },
 "nbformat": 4,
 "nbformat_minor": 5
}
